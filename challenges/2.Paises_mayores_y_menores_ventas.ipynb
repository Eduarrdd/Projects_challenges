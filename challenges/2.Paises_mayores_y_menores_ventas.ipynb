{
 "cells": [
  {
   "cell_type": "markdown",
   "metadata": {},
   "source": [
    "# Obteniendo los países con mayores y menores ventas "
   ]
  },
  {
   "cell_type": "code",
   "execution_count": 2,
   "metadata": {},
   "outputs": [
    {
     "name": "stdout",
     "output_type": "stream",
     "text": [
      "  InvoiceNo StockCode                          Description  Quantity  \\\n",
      "0    536365    85123A   WHITE HANGING HEART T-LIGHT HOLDER         6   \n",
      "1    536365     71053                  WHITE METAL LANTERN         6   \n",
      "2    536365    84406B       CREAM CUPID HEARTS COAT HANGER         8   \n",
      "3    536365    84029G  KNITTED UNION FLAG HOT WATER BOTTLE         6   \n",
      "4    536365    84029E       RED WOOLLY HOTTIE WHITE HEART.         6   \n",
      "\n",
      "    InvoiceDate  UnitPrice  CustomerID         Country  \n",
      "0  12/1/10 8:26       2.55     17850.0  United Kingdom  \n",
      "1  12/1/10 8:26       3.39     17850.0  United Kingdom  \n",
      "2  12/1/10 8:26       2.75     17850.0  United Kingdom  \n",
      "3  12/1/10 8:26       3.39     17850.0  United Kingdom  \n",
      "4  12/1/10 8:26       3.39     17850.0  United Kingdom  \n"
     ]
    }
   ],
   "source": [
    "# Importamos nuestra librería. En este escenario, utilizaremos pandas\n",
    "\n",
    "import pandas as pd\n",
    "\n",
    "# Ahora leeremos el archivo .csv llamado 'Online_Retail.csv'\n",
    "\n",
    "path = 'Online_Retail.csv'\n",
    "df = pd.read_csv(path, encoding='latin1')\n",
    "print(df.head(5))\n"
   ]
  },
  {
   "cell_type": "code",
   "execution_count": 4,
   "metadata": {},
   "outputs": [
    {
     "name": "stdout",
     "output_type": "stream",
     "text": [
      "<class 'pandas.core.frame.DataFrame'>\n",
      "RangeIndex: 541909 entries, 0 to 541908\n",
      "Data columns (total 8 columns):\n",
      " #   Column       Non-Null Count   Dtype  \n",
      "---  ------       --------------   -----  \n",
      " 0   InvoiceNo    541909 non-null  object \n",
      " 1   StockCode    541909 non-null  object \n",
      " 2   Description  540455 non-null  object \n",
      " 3   Quantity     541909 non-null  int64  \n",
      " 4   InvoiceDate  541909 non-null  object \n",
      " 5   UnitPrice    541909 non-null  float64\n",
      " 6   CustomerID   406829 non-null  float64\n",
      " 7   Country      541909 non-null  object \n",
      "dtypes: float64(2), int64(1), object(5)\n",
      "memory usage: 33.1+ MB\n",
      "None\n",
      "            Quantity      UnitPrice     CustomerID\n",
      "count  541909.000000  541909.000000  406829.000000\n",
      "mean        9.552250       4.611114   15287.690570\n",
      "std       218.081158      96.759853    1713.600303\n",
      "min    -80995.000000  -11062.060000   12346.000000\n",
      "25%         1.000000       1.250000   13953.000000\n",
      "50%         3.000000       2.080000   15152.000000\n",
      "75%        10.000000       4.130000   16791.000000\n",
      "max     80995.000000   38970.000000   18287.000000\n"
     ]
    }
   ],
   "source": [
    "# Ya que hemos leído nuestro archivo, veremos un poco de la descricpción de los mismos.\n",
    "\n",
    "description_df = df.info()\n",
    "print(description_df)\n",
    "\n",
    "# Además haremos uno cálculos rápidos con 'describe' para obtener una mirada rápida de los mismos.\n",
    "\n",
    "describe_df = df.describe()\n",
    "print(describe_df)"
   ]
  },
  {
   "cell_type": "code",
   "execution_count": 12,
   "metadata": {},
   "outputs": [
    {
     "name": "stdout",
     "output_type": "stream",
     "text": [
      "                              sum\n",
      "Country                          \n",
      "Australia              137077.270\n",
      "Austria                 10154.320\n",
      "Bahrain                   548.400\n",
      "Belgium                 40910.960\n",
      "Brazil                   1143.600\n",
      "Canada                   3666.380\n",
      "Channel Islands         20086.290\n",
      "Cyprus                  12946.290\n",
      "Czech Republic            707.720\n",
      "Denmark                 18768.140\n",
      "EIRE                   263276.820\n",
      "European Community       1291.750\n",
      "Finland                 22326.740\n",
      "France                 197403.900\n",
      "Germany                221698.210\n",
      "Greece                   4710.520\n",
      "Hong Kong               10117.040\n",
      "Iceland                  4310.000\n",
      "Israel                   7907.820\n",
      "Italy                   16890.510\n",
      "Japan                   35340.620\n",
      "Lebanon                  1693.880\n",
      "Lithuania                1661.060\n",
      "Malta                    2505.470\n",
      "Netherlands            284661.540\n",
      "Norway                  35163.460\n",
      "Poland                   7213.140\n",
      "Portugal                29367.020\n",
      "RSA                      1002.310\n",
      "Saudi Arabia              131.170\n",
      "Singapore                9120.390\n",
      "Spain                   54774.580\n",
      "Sweden                  36595.910\n",
      "Switzerland             56385.350\n",
      "USA                      1730.920\n",
      "United Arab Emirates     1902.280\n",
      "United Kingdom        8187806.364\n",
      "Unspecified              4749.790\n"
     ]
    },
    {
     "name": "stderr",
     "output_type": "stream",
     "text": [
      "/tmp/ipykernel_10625/2483258951.py:10: DeprecationWarning: DataFrameGroupBy.apply operated on the grouping columns. This behavior is deprecated, and in a future version of pandas the grouping columns will be excluded from the operation. Either pass `include_groups=False` to exclude the groupings or explicitly select the grouping columns after groupby to silence this warning.\n",
      "  group_by_country_sales = df.groupby(['Country']).apply(total_sales)\n"
     ]
    }
   ],
   "source": [
    "# Por el momento, solo obtendremos los 3 países con mayores y menores ventas.\n",
    "\n",
    "## Crearemos una función en la que podamos tener nuestras ventas totales a partir del país, el precio unitario y la cantidad.\n",
    "\n",
    "def total_sales (sales):\n",
    "    return (sales['Quantity'] * sales['UnitPrice']).agg(['sum'])\n",
    "\n",
    "### Llamaremos esta función con el método .apply()\n",
    "\n",
    "group_by_country_sales = df.groupby(['Country']).apply(total_sales)\n",
    "print(group_by_country_sales)\n"
   ]
  },
  {
   "cell_type": "code",
   "execution_count": null,
   "metadata": {},
   "outputs": [
    {
     "name": "stdout",
     "output_type": "stream",
     "text": [
      "Nuestros 3 países con mayores ventas (aunque no necesariamente \n",
      "con más ganancias netas) son:\n",
      "                         sum\n",
      "Country                    \n",
      "United Kingdom  8187806.364\n",
      "Netherlands      284661.540\n",
      "EIRE             263276.820\n"
     ]
    }
   ],
   "source": [
    "#### Ahora, utilizaremos el método .sort_values() para poder traer de manera ASC y DESC nuestros países\n",
    "\n",
    "top_3_countries = group_by_country_sales.sort_values(by='sum', ascending=False)\n",
    "print(f'Nuestros 3 países con mayores ventas (aunque no necesariamente \\ncon más ganancias netas) son:\\n {top_3_countries.head(3)}')\n"
   ]
  },
  {
   "cell_type": "code",
   "execution_count": 25,
   "metadata": {},
   "outputs": [
    {
     "name": "stdout",
     "output_type": "stream",
     "text": [
      "Nuestros 3 países con menores ventas son:\n",
      "                    sum\n",
      "Country               \n",
      "Saudi Arabia    131.17\n",
      "Bahrain         548.40\n",
      "Czech Republic  707.72\n"
     ]
    }
   ],
   "source": [
    "#### De la misma manera que con los países con mayores ventas, obtendremos los países con menores ventas\n",
    "\n",
    "lowest_3_countries = group_by_country_sales.sort_values(by='sum', ascending=True)\n",
    "print(f'Nuestros 3 países con menores ventas son:\\n {lowest_3_countries.head(3)}')"
   ]
  }
 ],
 "metadata": {
  "kernelspec": {
   "display_name": "python_para_analisis",
   "language": "python",
   "name": "python3"
  },
  "language_info": {
   "codemirror_mode": {
    "name": "ipython",
    "version": 3
   },
   "file_extension": ".py",
   "mimetype": "text/x-python",
   "name": "python",
   "nbconvert_exporter": "python",
   "pygments_lexer": "ipython3",
   "version": "3.12.7"
  }
 },
 "nbformat": 4,
 "nbformat_minor": 2
}
